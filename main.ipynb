{
 "cells": [
  {
   "cell_type": "code",
   "execution_count": 1,
   "metadata": {},
   "outputs": [],
   "source": [
    "import matplotlib.pyplot as plt\n",
    "import random\n",
    "import time"
   ]
  },
  {
   "cell_type": "code",
   "execution_count": 2,
   "metadata": {},
   "outputs": [],
   "source": [
    "def plot_times(runtime):\n",
    "\n",
    "    plt.figure(figsize=(15, 5)) \n",
    "\n",
    "    plt.plot(range(1, len(runtime) + 1), runtime, \n",
    "         linewidth=1.5, \n",
    "         color=\"red\",\n",
    "         linestyle=\"-\", \n",
    "         marker=\">\", \n",
    "         markersize=10, \n",
    "         markerfacecolor=\"blue\", \n",
    "         markeredgecolor=\"grey\",\n",
    "         markeredgewidth=1) \n",
    "\n",
    "    plt.xticks(runtime, fontsize=10)\n",
    "    plt.xlabel(\"Times\", fontsize=15)\n",
    "    plt.ylabel(\"Runtime\", fontsize=15)\n",
    "    plt.grid()\n",
    "    plt.show()\n",
    "    "
   ]
  },
  {
   "cell_type": "markdown",
   "metadata": {},
   "source": [
    "# Calcular maximo.\n",
    "Escribir una funcion `maximum()` que calcule el maximo de la lista de valores."
   ]
  },
  {
   "cell_type": "code",
   "execution_count": 3,
   "metadata": {},
   "outputs": [],
   "source": [
    "def maximum(values):\n",
    "    answer = None\n",
    "    for value in values:\n",
    "        if answer == None or answer < value:\n",
    "            answer = value\n",
    "    return answer"
   ]
  },
  {
   "cell_type": "code",
   "execution_count": 4,
   "metadata": {},
   "outputs": [],
   "source": [
    "def random_inputs(length):\n",
    "    return[random.randint(-1000, 10000) for _ in range(length)]"
   ]
  },
  {
   "cell_type": "markdown",
   "metadata": {},
   "source": [
    "## Testing funcion `maximum`"
   ]
  },
  {
   "cell_type": "code",
   "execution_count": 5,
   "metadata": {},
   "outputs": [
    {
     "name": "stdout",
     "output_type": "stream",
     "text": [
      "8\n"
     ]
    }
   ],
   "source": [
    "values = [-2, 4, 6, 7, 8]\n",
    "maximo = maximum(values)\n",
    "print(maximo) # 8"
   ]
  },
  {
   "cell_type": "code",
   "execution_count": 6,
   "metadata": {},
   "outputs": [
    {
     "name": "stdout",
     "output_type": "stream",
     "text": [
      "[6199, 4019, 3370, 5550, 5671, 4178, 618, 7589, 6521, 1325]\n",
      "7589\n"
     ]
    }
   ],
   "source": [
    "values = random_inputs(10)\n",
    "print(values)\n",
    "maximo = maximum(values)\n",
    "print(maximo)"
   ]
  },
  {
   "cell_type": "code",
   "execution_count": 7,
   "metadata": {},
   "outputs": [
    {
     "name": "stdout",
     "output_type": "stream",
     "text": [
      "[9231, 9474, 3888, -482, 2019, 6588, 7188, 3942, 7553, 7841]\n",
      "0.000997781753540039\n",
      "9474\n"
     ]
    }
   ],
   "source": [
    "# Tomar tiempo que se tarda en eso.\n",
    "\n",
    "values = random_inputs(10)\n",
    "print(values)\n",
    "start = time.time()\n",
    "maximo = maximum(values)\n",
    "end = time.time()\n",
    "print(end - start)\n",
    "print(maximo)\n"
   ]
  },
  {
   "cell_type": "code",
   "execution_count": 8,
   "metadata": {},
   "outputs": [
    {
     "name": "stdout",
     "output_type": "stream",
     "text": [
      "Ejecucion terminada\n"
     ]
    }
   ],
   "source": [
    "runtime = []\n",
    "\n",
    "for lenght in range(1, 501): # Lista de 500 valores de tiempo.\n",
    "    values = random_inputs(10)\n",
    "    start = time.time()\n",
    "    maximo = maximum(values)\n",
    "    end = time.time()\n",
    "    runtime.append(end-start)\n",
    "print('Ejecucion terminada')"
   ]
  },
  {
   "cell_type": "code",
   "execution_count": 9,
   "metadata": {},
   "outputs": [
    {
     "data": {
      "image/png": "[encoded data removed]",
      "text/plain": [
       "<Figure size 1500x500 with 1 Axes>"
      ]
     },
     "metadata": {},
     "output_type": "display_data"
    }
   ],
   "source": [
    "plot_times(runtime)"
   ]
  },
  {
   "cell_type": "code",
   "execution_count": null,
   "metadata": {},
   "outputs": [],
   "source": []
  }
 ],
 "metadata": {
  "kernelspec": {
   "display_name": "Python 3",
   "language": "python",
   "name": "python3"
  },
  "language_info": {
   "codemirror_mode": {
    "name": "ipython",
    "version": 3
   },
   "file_extension": ".py",
   "mimetype": "text/x-python",
   "name": "python",
   "nbconvert_exporter": "python",
   "pygments_lexer": "ipython3",
   "version": "3.12.4"
  }
 },
 "nbformat": 4,
 "nbformat_minor": 2
}
