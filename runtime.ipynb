{
 "cells": [
  {
   "cell_type": "code",
   "execution_count": 353,
   "metadata": {},
   "outputs": [],
   "source": [
    "import Methods.times as ojiva_times\n",
    "import random\n",
    "import time"
   ]
  },
  {
   "cell_type": "markdown",
   "metadata": {},
   "source": [
    "# Calcular maximo.\n",
    "Escribir una funcion `maximum()` que calcule el maximo de la lista de valores."
   ]
  },
  {
   "cell_type": "code",
   "execution_count": 354,
   "metadata": {},
   "outputs": [],
   "source": [
    "def maximum(values):\n",
    "    answer = None\n",
    "    for value in values:\n",
    "        if answer == None or answer < value:\n",
    "            answer = value\n",
    "    return answer"
   ]
  },
  {
   "cell_type": "code",
   "execution_count": 355,
   "metadata": {},
   "outputs": [],
   "source": [
    "def random_inputs(length):\n",
    "    return[random.randint(-1000, 10000) for _ in range(length)]"
   ]
  },
  {
   "cell_type": "markdown",
   "metadata": {},
   "source": [
    "Testing funcion `maximum`"
   ]
  },
  {
   "cell_type": "code",
   "execution_count": 356,
   "metadata": {},
   "outputs": [
    {
     "name": "stdout",
     "output_type": "stream",
     "text": [
      "8\n"
     ]
    }
   ],
   "source": [
    "values = [-2, 4, 6, 7, 8]\n",
    "maximo = maximum(values)\n",
    "print(maximo) # 8"
   ]
  },
  {
   "cell_type": "code",
   "execution_count": 357,
   "metadata": {},
   "outputs": [
    {
     "name": "stdout",
     "output_type": "stream",
     "text": [
      "[2983, 4630, -695, 9711, -214, 848, 7596, -24, 7528, 9216]\n",
      "9711\n"
     ]
    }
   ],
   "source": [
    "values = random_inputs(10)\n",
    "print(values)\n",
    "maximo = maximum(values)\n",
    "print(maximo)"
   ]
  },
  {
   "cell_type": "code",
   "execution_count": 358,
   "metadata": {},
   "outputs": [
    {
     "name": "stdout",
     "output_type": "stream",
     "text": [
      "[9019, 9189, -517, 3165, 9775, 6570, 7, 3214, 3792, 6218]\n",
      "4.291534423828125e-05\n",
      "9775\n"
     ]
    }
   ],
   "source": [
    "# Tomar tiempo que se tarda en eso.\n",
    "\n",
    "values = random_inputs(10)\n",
    "print(values)\n",
    "start = time.time()\n",
    "maximo = maximum(values)\n",
    "end = time.time()\n",
    "print(end - start)\n",
    "print(maximo)\n"
   ]
  },
  {
   "cell_type": "code",
   "execution_count": 359,
   "metadata": {},
   "outputs": [
    {
     "name": "stdout",
     "output_type": "stream",
     "text": [
      "Ejecucion terminada\n"
     ]
    }
   ],
   "source": [
    "runtime = []\n",
    "\n",
    "for lenght in range(1, 501): # Lista de 500 valores de tiempo.\n",
    "    values = random_inputs(10)\n",
    "    start = time.time()\n",
    "    maximo = maximum(values)\n",
    "    end = time.time()\n",
    "    runtime.append(end-start)\n",
    "print('Ejecucion terminada')"
   ]
  },
  {
   "cell_type": "code",
   "execution_count": 360,
   "metadata": {},
   "outputs": [
    {
     "data": {
      "image/png": "[encoded data removed]",
      "text/plain": [
       "<Figure size 1500x500 with 1 Axes>"
      ]
     },
     "metadata": {},
     "output_type": "display_data"
    }
   ],
   "source": [
    "ojiva_times.plot_times(runtime)"
   ]
  },
  {
   "cell_type": "markdown",
   "metadata": {},
   "source": [
    "Nota: \n",
    "- Saber que forma puede tener la funcion para saber su complejidad, ahora, sin graficas debemos saber que comportamiento tiene el algoritmo, por que aveces ocupa demaciado tiempo.\n",
    "- Analisis de comportamiento sin hacer la grafica, lo mismo pero sin grafica xd.\n",
    "\n"
   ]
  },
  {
   "cell_type": "markdown",
   "metadata": {},
   "source": [
    "# Caracterizacion de la complejidad de un algoritmo."
   ]
  },
  {
   "cell_type": "code",
   "execution_count": 361,
   "metadata": {},
   "outputs": [],
   "source": [
    "def maximum(values):\n",
    "    answer = None                               # c1, 1 time\n",
    "    for value in values:                        # c2, N times\n",
    "        if answer == None or answer < value:    # c3, N times\n",
    "            answer = value                      # c4, N times\n",
    "    return answer                               # c5, 1 time"
   ]
  },
  {
   "cell_type": "markdown",
   "metadata": {},
   "source": [
    "Nota:       \n",
    "Al hacer el analisis, cosidera el peor escenario, que siempre entren, que siempore if sea verdadero, ese es el peor escenario, el mejor es que jamas entre al if, peor y mejor. Al caracterizar un algotimo es, el pero que ejecute el mayor numero de lineas, y el mejor que el if no se ejecute o se ejecute menos."
   ]
  },
  {
   "cell_type": "markdown",
   "metadata": {},
   "source": [
    "---"
   ]
  },
  {
   "cell_type": "markdown",
   "metadata": {},
   "source": [
    "### La complejidad de `maximum` es:\n",
    "$\n",
    "\\begin{align}\n",
    "\\text{runtime}  & = c_1 + c_2 + c_3 + c_4 + c_5\\\\\n",
    "                & = 1 + N + N + N + 1\\\\ \n",
    "                & = 3N + 2\n",
    "\\end{align}\n",
    "$"
   ]
  },
  {
   "cell_type": "markdown",
   "metadata": {},
   "source": [
    "### Crea una funcion `sum_all()` que sume todos los valores de una lista."
   ]
  },
  {
   "cell_type": "code",
   "execution_count": 362,
   "metadata": {},
   "outputs": [],
   "source": [
    "def sum_all(values):\n",
    "    total = 0               \n",
    "    for value in values:    \n",
    "        total += value     \n",
    "    return total           "
   ]
  },
  {
   "cell_type": "code",
   "execution_count": 363,
   "metadata": {},
   "outputs": [
    {
     "name": "stdout",
     "output_type": "stream",
     "text": [
      "[5060, 9233, 3071, 2729]\n",
      "20093\n"
     ]
    }
   ],
   "source": [
    "values = random_inputs(4)\n",
    "print(values)\n",
    "total = sum_all(values)\n",
    "print(total)"
   ]
  },
  {
   "cell_type": "markdown",
   "metadata": {},
   "source": [
    "### Complejidad de `sum_all`"
   ]
  },
  {
   "cell_type": "markdown",
   "metadata": {},
   "source": [
    "$\n",
    "\\begin{align}\n",
    "\\text{sumAll}  & = c_1 + c_2 + c_3 + c_4\\\\\n",
    "               & = 1 + N + N + 1\\\\ \n",
    "               & = 2N + 2\n",
    "\\end{align}\n",
    "$"
   ]
  },
  {
   "cell_type": "markdown",
   "metadata": {},
   "source": [
    "Output example:  \n",
    "            \n",
    "`[8286, 7177, 4724, 9886]       \n",
    "30073`      \n",
    "- Start with the first number: 8286       \n",
    "- Add 7177: 8286 + 7177 = 15463       \n",
    "- Add 4724: 15463 + 4724 = 20187      \n",
    "- Add 9886: 20187 + 9886 = 30073      \n",
    "\n",
    "The final result is: 30073"
   ]
  },
  {
   "cell_type": "markdown",
   "metadata": {},
   "source": [
    "### Funcion `count_zeros`"
   ]
  },
  {
   "cell_type": "code",
   "execution_count": 364,
   "metadata": {},
   "outputs": [],
   "source": [
    "def count_zeros(values):\n",
    "    s = 0                   # c1, 1 time\n",
    "    for value in values:    # c2, N times\n",
    "        if value == 0:      # c3, N times\n",
    "            s += 1          # c4, N times\n",
    "    return s                # c5, 1 time"
   ]
  },
  {
   "cell_type": "markdown",
   "metadata": {},
   "source": [
    "### Testing"
   ]
  },
  {
   "cell_type": "code",
   "execution_count": 365,
   "metadata": {},
   "outputs": [
    {
     "data": {
      "text/plain": [
       "2"
      ]
     },
     "execution_count": 365,
     "metadata": {},
     "output_type": "execute_result"
    }
   ],
   "source": [
    "values =[0,1,2,3,0,4]\n",
    "count_zeros(values)"
   ]
  },
  {
   "cell_type": "markdown",
   "metadata": {},
   "source": [
    "### Complejidad de count_zeros:\n",
    "$\n",
    "\\begin{align}\n",
    "\\text{countZeros}  & = c_1 + c_2 + c_3 + c_4 + c_5 \\\\\n",
    "               & = 1 + N + N + N + 1\\\\ \n",
    "               & = 3N + 2\n",
    "\\end{align}\n",
    "$"
   ]
  },
  {
   "cell_type": "markdown",
   "metadata": {},
   "source": [
    "### Crea una funcion `sum_Zero()` que dada dos listas de valores de la misma longitud cuenten todos los pares que sumen cero.     \n",
    "        \n",
    "Es decir: \n",
    "- [2, 5, 3, -4]\n",
    "- [-2, 7, 6, 4]    \n",
    "        \n",
    "En este caso hay dos pares de valores que dan 0."
   ]
  },
  {
   "cell_type": "code",
   "execution_count": 366,
   "metadata": {},
   "outputs": [],
   "source": [
    "def sum_Zero(l1, l2):\n",
    "    N = len(l1)                     # c1, 1 time\n",
    "    total_zeros = 0                 # c2, 1 time\n",
    "    for i in range(N):              # c3, N times\n",
    "        for x in range(N):          # c4, N^2 times\n",
    "            if l1[i] + l2[x] == 0:  # c5, N^2 times\n",
    "                total_zeros += 1    # c6, N^2 times\n",
    "    return total_zeros              # c7, 1 time"
   ]
  },
  {
   "cell_type": "code",
   "execution_count": 367,
   "metadata": {},
   "outputs": [
    {
     "data": {
      "text/plain": [
       "3"
      ]
     },
     "execution_count": 367,
     "metadata": {},
     "output_type": "execute_result"
    }
   ],
   "source": [
    "l1 = [2, 5, 3, -4]\n",
    "l2 = [-2, 7, -3, 4]\n",
    "sum_Zero(l1,l2)"
   ]
  },
  {
   "cell_type": "markdown",
   "metadata": {},
   "source": [
    "### Complejidad de count_Zero:\n",
    "$\n",
    "\\begin{align}\n",
    "\\text{countZero}  & = c_1 + c_2 + c_3 + c_4 + c_5 + c_6 + c_7 \\\\\n",
    "               & = 1 + 1 + N + N^2 + N^2 + N^2 + 1\\\\ \n",
    "               & = 3N^2 + N + 3\n",
    "\\end{align}\n",
    "$"
   ]
  },
  {
   "cell_type": "markdown",
   "metadata": {},
   "source": [
    "---"
   ]
  },
  {
   "cell_type": "markdown",
   "metadata": {},
   "source": [
    "Crea una funcion llamada `min_max(values)`, te regresa el minimo y el maximo de una lista de valores. "
   ]
  },
  {
   "cell_type": "code",
   "execution_count": 368,
   "metadata": {},
   "outputs": [],
   "source": [
    "def min_max(values):\n",
    "\n",
    "    min = values[0]     # c1, 1 time  \n",
    "    max = values[0]     # c2, 1 time\n",
    "    for value in values:    # c3, N times               \n",
    "        if value < min:     # c4, N times            \n",
    "            min = value     # c4, N times\n",
    "        if value > max:     # c5, N times            \n",
    "            max = value     # c6, N times\n",
    "\n",
    "    return f'Min: {min}, max: {max}' #c7, 1 times"
   ]
  },
  {
   "cell_type": "code",
   "execution_count": 369,
   "metadata": {},
   "outputs": [
    {
     "data": {
      "text/plain": [
       "'Min: 1, max: 5'"
      ]
     },
     "execution_count": 369,
     "metadata": {},
     "output_type": "execute_result"
    }
   ],
   "source": [
    "l = [5,4,3,2,1]\n",
    "min_max(l)"
   ]
  },
  {
   "cell_type": "markdown",
   "metadata": {},
   "source": [
    "### Complejidad de min_max():\n",
    "$\n",
    "\\begin{align}\n",
    "\\text{minMax}  & = c_1 + c_2 + c_3 + c_4 + c_5 + c_6 + c_7 + c_8 + c_9 \\\\\n",
    "               & = 1 + 1 + N + N + N + N + N + 1 \\\\ \n",
    "               & = 5N + 3\n",
    "\\end{align}\n",
    "$"
   ]
  },
  {
   "cell_type": "markdown",
   "metadata": {},
   "source": [
    "Nota:       \n",
    "Una llamada a una funcion no es tape 1, pues si llamamos pop() o así hay mas codigo dentro, ya no seria solo 1.     \n",
    "Ejemplo de la complejidad:      \n",
    "- [0,3,4,6]       \n",
    "- A = lista[2]                \n",
    "- print(A) # 5   \n",
    "             \n",
    "Eso ultimo, al llamar a 2, python está llamado: lista.__getitem(2)             \n",
    "El punto es que es muy complejo saber lo que es type 1 o lo que no es, pues utoiliza sintaxis sugar, que es lo que realmente hace pero lo otro es lko que tu escribas, pues su idea es que alguien que no sepa codificar pueda, detras invoca metodos que no vemos.     \n",
    "Para metodos de analisis diremos que los anteriores son lineales.      \n",
    "Susinto, concepto, es una oracion que es concisa, precisa, sin ambiguedades, bien hecho pero no largote, como frase de un buen escritor.\n",
    "Si tu entiendes en pocas letras cumples el objetivo, transmitir demaciado, el problema es que pocos entienden lo que dicen.\n",
    "al tiempo que comunican muy bien, solo lo hacen a cierta audiencia.\n",
    "Como un politico que no lee su speach Xd.\n",
    "Codificar requere de:\n",
    "- Algoritmo eficiente, que corra rapido \n",
    "- Codigo legible, no amontonado ni feo, esto tiene que ver con las variables que usas, que se entineda -> x, y, f, z... A menos que estes con algo matematico eso ya no es legible, no tienen buen nombre y solo tu lo  entiendes.\n",
    "- Escalabilidad: por que el codigo de arriba permite copiar para cambiar las variables, esta tan bien hecho que puede reutilizarse sin tanto pedo, ademas de ser facil de modificar.\n",
    "\n",
    "Aveces aunque este mas largo y legible es mejor a mas complejo y chico.\n",
    "Cuanto tiempo se tarda en correr? \n",
    "\n",
    "Pues la complejidad del algoritmo se compone de 3 cosas\n",
    "- compone de n\n",
    "- el signo mas significativo\n",
    "- se quita el coeficiente, solo seria n cuadrada.\n",
    "\n",
    "En la complejidad, no vamos a escribir cada uno de los componentes, basta con identificar, tomar de todo eso el componente con el mayor exponente que es el mas complejo del algoritmo y los representamos con una o, big O notation.\n",
    "entonces que complejidad? n, n^2, n^.... \n",
    "\n",
    "De ese analicis de que no tiene sentido usar en el analicis todo los componentes, se escribe como asi= 0(N), cualquiera de esos.\n",
    "El mejor? lEgible y escalable, para efectos de comprobacion, todos son lineales.\n",
    "\n"
   ]
  },
  {
   "cell_type": "markdown",
   "metadata": {},
   "source": [
    "---"
   ]
  },
  {
   "cell_type": "markdown",
   "metadata": {},
   "source": [
    "Ejemplos de complejidad de un algoritmo (clase Dr.):   \n",
    "             \n",
    "$$ \\mathcal{O}(2N^2 + N + 3) = \\mathcal{O}(N^2)$$\n",
    "$$ \\mathcal{O}(3N + 2) = \\mathcal{O}(N)$$\n",
    "$$ \\mathcal{O}(N \\log N + 1) = \\mathcal{O}(N \\log N)$$     \n",
    "$$ \\mathcal{O}(3N^2 + N^2) = \\mathcal{O}(N^4)$$      \n",
    "$$ \\mathcal{O}(N^2) = \\mathcal{O}(N^2)$$   "
   ]
  },
  {
   "cell_type": "markdown",
   "metadata": {},
   "source": [
    "---"
   ]
  },
  {
   "cell_type": "markdown",
   "metadata": {},
   "source": [
    "# Escalabilidad:        \n",
    "Para el codigo de `max_min()`, es mas escalable hacerlo en dos, una para los minimos y otra para los maximos, esto sería mejor que en uso solo, siempre piensa en \"Alguna ves lo voy a ocupar?\" si la repuesta es sí, fragmentalo en funciones para reutilizarlo."
   ]
  },
  {
   "cell_type": "code",
   "execution_count": 370,
   "metadata": {},
   "outputs": [
    {
     "name": "stdout",
     "output_type": "stream",
     "text": [
      "Min: 10\n",
      "Max: 50\n",
      "('Min: 10', 'Max: 50')\n"
     ]
    }
   ],
   "source": [
    "def min(values):\n",
    "    \n",
    "    min = values[0]         # 1                 \n",
    "    for value in values:    # N            \n",
    "        if value < min:\n",
    "            min = value     # N   \n",
    "        \n",
    "    return f'Min: {min}'    # 1 \n",
    "\n",
    "def max(values):\n",
    "    \n",
    "    max = values[0]     # 1\n",
    "    for _ in values:    # N                     \n",
    "        max = _         # N\n",
    "        \n",
    "    return f'Max: {max}' # 1   \n",
    "\n",
    "def min_max2(values):\n",
    "    \n",
    "    minimum = min(values)   # N\n",
    "    maximum = max(values)   # N\n",
    "    \n",
    "    return minimum, maximum # 1\n",
    "\n",
    "# Test the functions\n",
    "values = [10, 20, 30, 40, 50]\n",
    "print(min(values))\n",
    "print(max(values))\n",
    "print(min_max2(values))"
   ]
  },
  {
   "cell_type": "markdown",
   "metadata": {},
   "source": [
    "---"
   ]
  },
  {
   "cell_type": "markdown",
   "metadata": {},
   "source": [
    "Ejercicio 1. Escoje la complejidad correcta para cada bucle:        \n",
    "\n",
    "- '0(1)'\n",
    "- '0(N)'\n",
    "- '0(M)'\n",
    "- '0(N + M)'\n",
    "- '0(N * M)'"
   ]
  },
  {
   "cell_type": "code",
   "execution_count": 371,
   "metadata": {},
   "outputs": [
    {
     "ename": "TypeError",
     "evalue": "'generator' object is not subscriptable",
     "output_type": "error",
     "traceback": [
      "\u001b[0;31m---------------------------------------------------------------------------\u001b[0m",
      "\u001b[0;31mTypeError\u001b[0m                                 Traceback (most recent call last)",
      "Cell \u001b[0;32mIn[371], line 8\u001b[0m\n\u001b[1;32m      6\u001b[0m list3 \u001b[38;5;241m=\u001b[39m [i \u001b[38;5;241m*\u001b[39m i \u001b[38;5;28;01mfor\u001b[39;00m i \u001b[38;5;129;01min\u001b[39;00m \u001b[38;5;28mrange\u001b[39m(M)]\n\u001b[1;32m      7\u001b[0m list4 \u001b[38;5;241m=\u001b[39m [[i \u001b[38;5;241m+\u001b[39m j \u001b[38;5;28;01mfor\u001b[39;00m j \u001b[38;5;129;01min\u001b[39;00m \u001b[38;5;28mrange\u001b[39m(M)] \u001b[38;5;28;01mfor\u001b[39;00m i \u001b[38;5;129;01min\u001b[39;00m \u001b[38;5;28mrange\u001b[39m(N)]\n\u001b[0;32m----> 8\u001b[0m list5 \u001b[38;5;241m=\u001b[39m [\u001b[38;5;28;43mmin\u001b[39;49m\u001b[43m(\u001b[49m\u001b[43mlist4\u001b[49m\u001b[43m(\u001b[49m\u001b[43mi\u001b[49m\u001b[43m)\u001b[49m\u001b[43m \u001b[49m\u001b[38;5;28;43;01mfor\u001b[39;49;00m\u001b[43m \u001b[49m\u001b[43mi\u001b[49m\u001b[43m \u001b[49m\u001b[38;5;129;43;01min\u001b[39;49;00m\u001b[43m \u001b[49m\u001b[38;5;28;43mrange\u001b[39;49m\u001b[43m(\u001b[49m\u001b[43mN\u001b[49m\u001b[43m)\u001b[49m\u001b[43m)\u001b[49m]\n\u001b[1;32m      9\u001b[0m list6 \u001b[38;5;241m=\u001b[39m [i \u001b[38;5;28;01mfor\u001b[39;00m i \u001b[38;5;129;01min\u001b[39;00m \u001b[38;5;28mrange\u001b[39m(\u001b[38;5;241m1000\u001b[39m)] \n",
      "Cell \u001b[0;32mIn[370], line 3\u001b[0m, in \u001b[0;36mmin\u001b[0;34m(values)\u001b[0m\n\u001b[1;32m      1\u001b[0m \u001b[38;5;28;01mdef\u001b[39;00m \u001b[38;5;21mmin\u001b[39m(values):\n\u001b[0;32m----> 3\u001b[0m     \u001b[38;5;28mmin\u001b[39m \u001b[38;5;241m=\u001b[39m \u001b[43mvalues\u001b[49m\u001b[43m[\u001b[49m\u001b[38;5;241;43m0\u001b[39;49m\u001b[43m]\u001b[49m         \u001b[38;5;66;03m# 1                 \u001b[39;00m\n\u001b[1;32m      4\u001b[0m     \u001b[38;5;28;01mfor\u001b[39;00m value \u001b[38;5;129;01min\u001b[39;00m values:    \u001b[38;5;66;03m# N            \u001b[39;00m\n\u001b[1;32m      5\u001b[0m         \u001b[38;5;28;01mif\u001b[39;00m value \u001b[38;5;241m<\u001b[39m \u001b[38;5;28mmin\u001b[39m:\n",
      "\u001b[0;31mTypeError\u001b[0m: 'generator' object is not subscriptable"
     ]
    }
   ],
   "source": [
    "N = 10\n",
    "M = 20\n",
    "\n",
    "list1 = [_ for i in range(0)]\n",
    "list2 = [i for i in range(3)]\n",
    "list3 = [i * i for i in range(M)]\n",
    "list4 = [[i + j for j in range(M)] for i in range(N)]\n",
    "list5 = [min(list4(i) for i in range(N))]\n",
    "list6 = [i for i in range(1000)] "
   ]
  },
  {
   "cell_type": "markdown",
   "metadata": {},
   "source": [
    "Respuestas propias:      \n",
    "1. O(1), por que se itera en un rango no N ni M, 0.\n",
    "2. O(1), por que se itera en un rango no N ni M, 3.\n",
    "3. O(M), por que se itera en rango N(20).\n",
    "4. O(N + M), por que ambas listas se están anidando, N y M\n",
    "5. O(N * M), por que no anido las listas, utilizo la 4 en i para multiplicar epor for en N\n",
    "6. O(1), por que se itera en un rango 1000\n",
    "\n",
    "Respuestas correctas:       \n",
    "1. O(1)\n",
    "2. O(1)\n",
    "3. O(N)\n",
    "4. O(N * M)\n",
    "5. O(N * M)\n",
    "6. O(1)"
   ]
  },
  {
   "cell_type": "markdown",
   "metadata": {},
   "source": [
    "### Explicando ´list4´ paso a paso para comprender ´list5´.\n",
    "`list5 = [min(list4(i) for i in range(N))]`:      \n",
    "\n",
    "N = 3,  m = 4       \n",
    "I = [0,1,2]     \n",
    "J = [0, 1, 2, 3]        \n",
    "\n",
    "i   j   [0]     \n",
    "0 + 0 = [0]     \n",
    "0 + 1 = [1]     \n",
    "0 + 2 = [2]     \n",
    "0 + 3 = [3]     \n",
    "O(M)        \n",
    "\n",
    "i   j   [0]     \n",
    "0 + 0 = [0]     \n",
    "0 + 1 = [1]     \n",
    "0 + 2 = [2]     \n",
    "0 + 3 = [3]     \n",
    "O(M)    \n",
    "\n",
    "Tomar en cuenta que, sí N es contante, la complejidad es N.\n",
    "Pero si no, ya seria N + M.\n"
   ]
  },
  {
   "cell_type": "code",
   "execution_count": null,
   "metadata": {},
   "outputs": [],
   "source": []
  }
 ],
 "metadata": {
  "kernelspec": {
   "display_name": "Python 3",
   "language": "python",
   "name": "python3"
  },
  "language_info": {
   "codemirror_mode": {
    "name": "ipython",
    "version": 3
   },
   "file_extension": ".py",
   "mimetype": "text/x-python",
   "name": "python",
   "nbconvert_exporter": "python",
   "pygments_lexer": "ipython3",
   "version": "3.11.4"
  }
 },
 "nbformat": 4,
 "nbformat_minor": 2
}
